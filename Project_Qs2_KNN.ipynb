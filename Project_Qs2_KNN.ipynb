{
 "cells": [
  {
   "cell_type": "code",
   "execution_count": 11,
   "metadata": {},
   "outputs": [],
   "source": [
    "# Qs. 2.1.1\n",
    "\n",
    "import numpy as np\n",
    "import matplotlib.pyplot as plt\n",
    "import operator\n",
    "import pandas as pd\n",
    "from scipy.special import expit\n",
    "%matplotlib inline\n",
    "\n",
    "genre = 'Goa'\n",
    "X_train = pd.read_csv(genre+\"-features-train.csv\", sep=',',header=None).values\n",
    "Y_train = np.repeat(genre, len(X_train))\n",
    "\n",
    "X_test = pd.read_csv(genre+\"-features-test.csv\", sep=',', header=None).values\n",
    "Y_test = np.repeat(genre, len(X_test))"
   ]
  },
  {
   "cell_type": "code",
   "execution_count": null,
   "metadata": {},
   "outputs": [],
   "source": [
    "def euclidean_distance(vector1, vector2):\n",
    "    return np.sqrt(np.sum(np.power(vector1-vector2, 2)))\n",
    "def absolute_distance(vector1, vector2):\n",
    "    return np.sum(np.absolute(vector1-vector2))"
   ]
  },
  {
   "cell_type": "code",
   "execution_count": null,
   "metadata": {},
   "outputs": [],
   "source": [
    "def get_neighbours(X_train, X_test_instance, k):\n",
    "    distances = []\n",
    "    neighbors = []\n",
    "    for i in xrange(0, X_train.shape[0]):\n",
    "        dist = absolute_distance(X_train[i], X_test_instance)\n",
    "        distances.append((i, dist))\n",
    "    distances.sort(key=operator.itemgetter(1))\n",
    "    for x in xrange(k):\n",
    "        #print distances[x]\n",
    "        neighbors.append(distances[x][0])\n",
    "    return neighbors"
   ]
  },
  {
   "cell_type": "code",
   "execution_count": null,
   "metadata": {},
   "outputs": [],
   "source": [
    "def predictkNNClass(output, y_train):\n",
    "    classVotes = {}\n",
    "    for i in xrange(len(output)):\n",
    "#         print output[i], y_train[output[i]]\n",
    "        if y_train[output[i]] in classVotes:\n",
    "            classVotes[y_train[output[i]]] += 1\n",
    "        else:\n",
    "            classVotes[y_train[output[i]]] = 1\n",
    "    sortedVotes = sorted(classVotes.iteritems(), key=operator.itemgetter(1), reverse=True)\n",
    "    #print sortedVotes\n",
    "    return sortedVotes[0][0]"
   ]
  },
  {
   "cell_type": "code",
   "execution_count": null,
   "metadata": {},
   "outputs": [],
   "source": [
    "def kNN_test(X_train, X_test, Y_train, Y_test, k):\n",
    "    output_classes = []\n",
    "    for i in xrange(0, X_test.shape[0]):\n",
    "        output = get_neighbours(X_train, X_test[i], k)\n",
    "        predictedClass = predictkNNClass(output, Y_train)\n",
    "        output_classes.append(predictedClass)\n",
    "    return output_classes\n"
   ]
  },
  {
   "cell_type": "code",
   "execution_count": null,
   "metadata": {},
   "outputs": [],
   "source": [
    "def prediction_accuracy(predicted_labels, original_labels):\n",
    "    count = 0\n",
    "    for i in xrange(len(predicted_labels)):\n",
    "        if predicted_labels[i] == original_labels[i]:\n",
    "            count += 1\n",
    "    #print count, len(predicted_labels)\n",
    "    return float(count)/len(predicted_labels)"
   ]
  },
  {
   "cell_type": "code",
   "execution_count": null,
   "metadata": {},
   "outputs": [],
   "source": [
    "predicted_classes = {}\n",
    "final_accuracies = {}\n",
    "\n",
    "# Choosing k = 1,...,20\n",
    "for k in xrange(1, 21):\n",
    "    predicted_classes[k] = kNN_test(X_train, X_test, y_train, y_test, k)\n",
    "    final_accuracies[k] = prediction_accuracy(predicted_classes[k], y_test)"
   ]
  }
 ],
 "metadata": {
  "kernelspec": {
   "display_name": "Python 3",
   "language": "python",
   "name": "python3"
  },
  "language_info": {
   "codemirror_mode": {
    "name": "ipython",
    "version": 3
   },
   "file_extension": ".py",
   "mimetype": "text/x-python",
   "name": "python",
   "nbconvert_exporter": "python",
   "pygments_lexer": "ipython3",
   "version": "3.6.10"
  }
 },
 "nbformat": 4,
 "nbformat_minor": 4
}
