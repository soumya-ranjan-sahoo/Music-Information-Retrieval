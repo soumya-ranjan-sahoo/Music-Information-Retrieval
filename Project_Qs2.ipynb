{
 "cells": [
  {
   "cell_type": "code",
   "execution_count": null,
   "metadata": {},
   "outputs": [],
   "source": [
    "# Qs. 2.1.1\n",
    "\n",
    "import numpy as np\n",
    "import matplotlib.pyplot as plt\n",
    "import operator\n",
    "#import scipy\n",
    "from scipy.special import expit\n",
    "%matplotlib inline\n",
    "\n",
    "\n",
    "X_train = np.genfromtxt('hw2-data/X_train.csv', delimiter=',')\n",
    "y_train = np.genfromtxt('hw2-data/y_train.csv')\n",
    "\n",
    "X_test = np.genfromtxt('hw2-data/X_test.csv', delimiter=',')\n",
    "y_test = np.genfromtxt('hw2-data/y_test.csv')"
   ]
  }
 ],
 "metadata": {
  "kernelspec": {
   "display_name": "Python 3",
   "language": "python",
   "name": "python3"
  },
  "language_info": {
   "codemirror_mode": {
    "name": "ipython",
    "version": 3
   },
   "file_extension": ".py",
   "mimetype": "text/x-python",
   "name": "python",
   "nbconvert_exporter": "python",
   "pygments_lexer": "ipython3",
   "version": "3.6.10"
  }
 },
 "nbformat": 4,
 "nbformat_minor": 4
}
